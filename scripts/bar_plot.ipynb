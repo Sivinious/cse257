{
 "cells": [
  {
   "cell_type": "code",
   "execution_count": 1,
   "metadata": {},
   "outputs": [],
   "source": [
    "import matplotlib.pyplot as plt\n",
    "import numpy as np\n",
    "import os.path as osp\n",
    "import pickle\n",
    "from collections import defaultdict\n",
    "import seaborn as sns\n",
    "import os\n",
    "from IPython.display import Markdown"
   ]
  },
  {
   "cell_type": "code",
   "execution_count": 2,
   "metadata": {},
   "outputs": [
    {
     "data": {
      "image/png": "[encoded data removed]",
      "text/plain": [
       "<Figure size 720x72 with 1 Axes>"
      ]
     },
     "metadata": {
      "needs_background": "light"
     },
     "output_type": "display_data"
    }
   ],
   "source": [
    "colors = sns.hls_palette(n_colors=10, l=0.6, s=.9, h=0.7)\n",
    "sns.palplot(colors)"
   ]
  },
  {
   "cell_type": "code",
   "execution_count": 3,
   "metadata": {},
   "outputs": [
    {
     "data": {
      "image/png": "[encoded data removed]",
      "text/plain": [
       "<Figure size 216x72 with 1 Axes>"
      ]
     },
     "metadata": {
      "needs_background": "light"
     },
     "output_type": "display_data"
    }
   ],
   "source": [
    "full_colors = sns.hls_palette(n_colors=3, l=0.6, s=.9, h=0.7)\n",
    "sns.palplot(full_colors)"
   ]
  },
  {
   "cell_type": "code",
   "execution_count": 10,
   "metadata": {},
   "outputs": [],
   "source": [
    "g_common_name_map = {\n",
    "    'main': 'Full',\n",
    "    'main2': 'Full (state)',\n",
    "    'tvae': 'VAE',\n",
    "    'vae': 'VAE',\n",
    "    'dist': 'Dist',\n",
    "    'rnd_sample': 'RS',\n",
    "    'rs': 'RS',\n",
    "    'no_ent': 'NE',\n",
    "    'ne': 'NE',\n",
    "    'nn': 'NN',\n",
    "    'fixed': 'FX',\n",
    "    'fix': 'FX',\n",
    "    'ac_fixed': 'FX',\n",
    "    'fx': 'FX',\n",
    "    'gt': 'GT',\n",
    "    'im': 'Full (image)',\n",
    "    'all': 'All',\n",
    "    \n",
    "    'funnel': 'Funnel',\n",
    "    'basket': 'Basket',\n",
    "    'ladder': 'Ladder',\n",
    "    'moving': 'Moving',\n",
    "    'collide': 'Collide',\n",
    "    'cannon': 'Cannon',\n",
    "    'buckets': 'Buckets',\n",
    "    'belt': 'Belt',\n",
    "    'navigate': 'Navigate',\n",
    "    \n",
    "    'full': 'Full Split',\n",
    "    'dim0': 'No Place',\n",
    "    'dim2': '2D Place',\n",
    "}\n",
    "\n",
    "g_common_color_map = {\n",
    "    'Full':  colors[3],\n",
    "    'NE':    colors[0],\n",
    "    'RS':    colors[1],\n",
    "    'FX': colors[2],\n",
    "    \n",
    "    'GT': colors[4],\n",
    "    'Full (state)': colors[5],\n",
    "    'Full (image)':    colors[5],\n",
    "    'All': colors[6],\n",
    "    \n",
    "    # Greens \n",
    "    'VAE': colors[7],\n",
    "    'Dist': colors[8],\n",
    "    'NN': colors[9],\n",
    "    \n",
    "    'Full Split': colors[4],\n",
    "    'No Place': colors[0],\n",
    "    '2D Place': colors[6],\n",
    "    \n",
    "    'push': full_colors[0],\n",
    "    'obstacle': full_colors[1],\n",
    "    'seesaw': full_colors[2],\n",
    "    \n",
    "    'Funnel' : colors[0],\n",
    "    'Basket': colors[1],\n",
    "    'Ladder': colors[2],\n",
    "    'Moving': colors[3],\n",
    "    'Collide': colors[4],\n",
    "    'Cannon': colors[5],\n",
    "    'Buckets': colors[6],\n",
    "    'Belt': colors[7],\n",
    "    'Navigate': colors[8],\n",
    "}\n",
    "def_ordering = [\n",
    "    'main', \n",
    "    'rnd_sample', 'rs', \n",
    "    'no_ent', 'ne',\n",
    "    'ac_fixed', 'fixed', 'fx',\n",
    "    'tvae', 'vae',\n",
    "    'gt', 'dist', 'nn',\n",
    "    'im', 'main2', 'all',\n",
    "\n",
    "    'funnel',\n",
    "    'basket',\n",
    "    'ladder',\n",
    "    'moving',\n",
    "    'collide',\n",
    "    'cannon',\n",
    "    'buckets',\n",
    "    'belt',\n",
    "    'navigate',\n",
    "\n",
    "    'dim0',\n",
    "    'dim2',\n",
    "    'full',\n",
    "   ]\n",
    "\n",
    "\n",
    "ablation_names = [\n",
    "    'main',\n",
    "    'no_ent',\n",
    "    'ac_fixed', 'fixed', 'fx'\n",
    "]\n",
    "\n",
    "baseline_names = [\n",
    "    'main',\n",
    "    'tvae', 'vae', \n",
    "    'dist', \n",
    "    'nn',\n",
    "]\n",
    "\n",
    "\n",
    "oracle_names = [\n",
    "    'main',\n",
    "    'im', 'main2',\n",
    "    'gt',\n",
    "    'all'\n",
    "]\n",
    "\n",
    "def extract_data(dat, scale=100.0):\n",
    "    names = []\n",
    "    results = []\n",
    "    \n",
    "    for k in def_ordering:\n",
    "        if k in dat:\n",
    "            names.append(k)\n",
    "            results.append(dat[k])\n",
    "    for k, v in dat.items():\n",
    "        if k not in def_ordering:\n",
    "            names.append(k)\n",
    "            results.append(v)\n",
    "    results = [np.array(x) * scale for x in results]\n",
    "    return results, names\n",
    "\n",
    "def load_datas(result_names, ret_train=False, scale=100.0, replace=False, early_ret=False):\n",
    "    d = defaultdict(list)\n",
    "    for result_name in result_names:\n",
    "        dat, names = load_data(result_name, ret_train, scale)\n",
    "        for i, n in enumerate(names):\n",
    "            if replace:\n",
    "                d[n] = list(dat[i])\n",
    "            else:\n",
    "                d[n].extend(list(dat[i]))\n",
    "    \n",
    "    for n in d:\n",
    "        d[n] = np.array(d[n])\n",
    "    if early_ret:\n",
    "        vn_pairs = list([(k, d[k]) for k in d])\n",
    "        return [x[1] for x in vn_pairs], [x[0] for x in vn_pairs]\n",
    "        \n",
    "    vn_pairs = list([(k, d[k]) for k in def_ordering if k in d])\n",
    "    return [x[1] for x in vn_pairs], [x[0] for x in vn_pairs]\n",
    "\n",
    "x = load_datas\n",
    "\n",
    "def load_data(result_name, ret_train=False, scale=100.0):\n",
    "    full_path = osp.join('../analysis/outcomes/', result_name + '.o')\n",
    "    with open(full_path, 'rb') as f:\n",
    "        results_train, results_test = pickle.load(f)\n",
    "    if ret_train:\n",
    "        ret_val = results_train\n",
    "    else:\n",
    "        ret_val = results_test\n",
    "    if ret_val is None or len(ret_val) == 0:\n",
    "        return [], []\n",
    "        \n",
    "    first_ele = ret_val[list(ret_val.keys())[0]][0]\n",
    "    if isinstance(first_ele, tuple):\n",
    "        for k in ret_val:\n",
    "            ret_val[k] = [x[1] for x in ret_val[k]]\n",
    "    return extract_data(ret_val, scale=scale)\n",
    "        \n",
    "\n",
    "def plot_bar(y_vals_1, y_vals_2, method_names, y_name, title, scaling=100.0, show_axis=False, \n",
    "             x_size_factor=1.5):\n",
    "    \"\"\"\n",
    "    y_vals_1: Bars to be plotted in the front\n",
    "    y_vals_2: Bars to be plotted in the back\n",
    "    \"\"\"\n",
    "    method_names = [g_common_name_map[x] if x in g_common_name_map else x for x in method_names]\n",
    "    y_1_mean = [np.mean(y) for y in y_vals_1]\n",
    "    y_1_std = [np.std(y) for y in y_vals_1]\n",
    "    \n",
    "    y_2_mean = [np.mean(y) for y in y_vals_2]\n",
    "    y_2_std = [np.std(y) for y in y_vals_2]\n",
    "    method_colors = [g_common_color_map[x] for x in method_names]\n",
    "    hatches = ['','/','\\\\','-', '.']\n",
    "    if 'GT' in method_names:\n",
    "        hatches = ['', '-', '/', '\\\\']\n",
    "    \n",
    "    pos_end = 0.25 * len(method_names)\n",
    "    y_pos = np.arange(0, pos_end, pos_end / len(method_names))\n",
    "#     bar_width = (pos_end / len(method_names)) * 0.8\n",
    "    bar_width = 0.25 * 0.8\n",
    "    bar_darkness = 0.2\n",
    "    plt.rcParams[\"figure.figsize\"] = ((len(method_names) + 1) * x_size_factor,5)\n",
    "    \n",
    "    bars = plt.bar(y_pos, y_2_mean, align='center', alpha=0.25, color=method_colors, yerr=y_2_std, \n",
    "            width=bar_width, \n",
    "            error_kw=dict(ecolor=(0.5, 0.5, 0.5, 0.5), lw=2, capsize=2, capthick=2))\n",
    "    bars = plt.bar(y_pos, y_1_mean, align='center', alpha=0.8, color=method_colors, yerr=y_1_std,\n",
    "            edgecolor=(0, 0, 0, 1.0),\n",
    "            linewidth=2,\n",
    "            width=bar_width,\n",
    "            error_kw=dict(ecolor=(bar_darkness, bar_darkness, bar_darkness, 1.0), lw=2, capsize=3, capthick=2))\n",
    "    for bar, pattern in zip(bars, hatches):\n",
    "        bar.set_hatch(pattern)\n",
    "        \n",
    "#     for bar, pattern in zip(bars, hatches):\n",
    "#         bar.set_hatch(pattern)\n",
    "    \n",
    "    plt.xticks(y_pos, ['' for x in method_names], fontsize=16)\n",
    "    if show_axis:\n",
    "        plt.xticks(y_pos, method_names, fontsize=16)\n",
    "    if scaling is not None:\n",
    "        plt.ylim(0, scaling)\n",
    "    plt.ylabel(y_name, fontsize=18)\n",
    "    plt.title(title, fontsize=22)\n",
    "\n",
    "    #plt.show()\n",
    "    \n",
    "    \n",
    "def save_fig(filename, file_format='pdf', tight=True, **kwargs):\n",
    "    if tight:\n",
    "        plt.tight_layout()\n",
    "    filename = filename.replace(' ', '_').lower()\n",
    "    print('saved to ', filename)\n",
    "    plt.savefig(\"../data/figures/{}.{}\".format(filename, file_format), format=file_format, dpi=1000, **kwargs)\n",
    "    \n",
    "def extract_ref_plot(vals_1, vals_2, names, ref_names, y_name, title, scaling=100.0, **kwargs):\n",
    "    use_vals_1 = [val for val, name in zip(vals_1, names) if name in ref_names]\n",
    "    use_vals_2 = [val for val, name in zip(vals_2, names) if name in ref_names]\n",
    "    \n",
    "    plot_bar(\n",
    "        use_vals_1, \n",
    "        use_vals_2, \n",
    "        [n for n in names if n in ref_names], y_name, title, scaling, **kwargs)\n",
    "    "
   ]
  },
  {
   "cell_type": "code",
   "execution_count": 8,
   "metadata": {},
   "outputs": [],
   "source": [
    "def generate_all(train_methods, test_methods, task_name, load_name=None, \n",
    "                 py='Success Rate (%)', scale=[110.0] * 3, data_scale=100.0, replace=True, use_width=1.0, add_dat=None):\n",
    "    if load_name is None:\n",
    "        load_name = task_name\n",
    "    train_methods = [load_name.lower() + '/' + x for x in train_methods]\n",
    "    test_methods = [load_name.lower() + '/' + x for x in test_methods]\n",
    "    \n",
    "    train_vals, method_names = load_datas(train_methods, replace=replace, ret_train=True, scale=data_scale)\n",
    "    test_vals, method_names = load_datas(test_methods, replace=replace, ret_train=False, scale=data_scale)\n",
    "    \n",
    "    def combine(x, d):\n",
    "        for i, m in enumerate(method_names):\n",
    "            if m in d:\n",
    "                x[i] = list(x[i])\n",
    "                x[i].extend(d[m])\n",
    "                x[i] = np.array(x[i])\n",
    "        return x\n",
    "    \n",
    "    if add_dat is not None:\n",
    "        train_vals = combine(train_vals, add_dat['train'])\n",
    "        test_vals = combine(test_vals, add_dat['test'])\n",
    "        \n",
    "    debug_axis=False\n",
    "\n",
    "    extract_ref_plot(test_vals, train_vals, method_names, baseline_names, py, \n",
    "                     task_name, \n",
    "                     scale[0], x_size_factor=use_width, show_axis=debug_axis)\n",
    "    save_fig(task_name + '_baselines')\n",
    "    plt.clf()\n",
    "    \n",
    "    extract_ref_plot(test_vals, train_vals, method_names, ablation_names, py, \n",
    "                     task_name, \n",
    "                     scale[1], x_size_factor=use_width, show_axis=debug_axis)\n",
    "    save_fig(task_name + '_ablations')\n",
    "    plt.clf()\n",
    "    \n",
    "    if 'Seesaw' in task_name:\n",
    "        use_oracle_names = [\n",
    "                'main',\n",
    "                'im', 'main2',\n",
    "                'all'\n",
    "            ]\n",
    "    else:\n",
    "        use_oracle_names = oracle_names\n",
    "    extract_ref_plot(test_vals, train_vals, method_names, use_oracle_names, py, \n",
    "                     task_name, \n",
    "                     scale[2], x_size_factor=use_width, show_axis=debug_axis)\n",
    "    save_fig(task_name + '_oracle')\n",
    "    plt.clf()\n",
    "    return train_vals, test_vals, method_names\n",
    "    \n",
    "    \n",
    "def generate_reco(train_methods, test_methods, task_name, load_name=None, \n",
    "                 py='Success Rate (%)', scale=[0.5] * 3, trans_f=lambda x: x, \n",
    "                  override_title=None, plot_all=False, use_width=1.0):\n",
    "    if load_name is None:\n",
    "        load_name = task_name\n",
    "    train_methods = [load_name.lower() + '/' + x for x in train_methods]\n",
    "    test_methods = [load_name.lower() + '/' + x for x in test_methods]\n",
    "    \n",
    "    train_vals, method_names = load_datas(train_methods, replace=True, ret_train=True, scale=1.0)\n",
    "    test_vals, method_names = load_datas(test_methods, replace=True, ret_train=False, scale=1.0)\n",
    "    GW_WIDTH = 1.0\n",
    "    debug_axis=False\n",
    "    \n",
    "    baseline_ctr = 0.15\n",
    "    \n",
    "    if trans_f is None:\n",
    "        def trans(xs):\n",
    "            for x in xs:\n",
    "                diff = x - baseline_ctr\n",
    "                per = diff / baseline_ctr\n",
    "                yield per * 100.0\n",
    "        trans_f = trans\n",
    "    \n",
    "    train_vals = list(trans_f(train_vals))\n",
    "    test_vals = list(trans_f(test_vals))\n",
    "    \n",
    "    if plot_all:\n",
    "        extract_ref_plot(test_vals, train_vals, method_names, [*baseline_names, *ablation_names[1:]], py, \n",
    "                     task_name, \n",
    "                     scale[0], x_size_factor=use_width, show_axis=debug_axis)\n",
    "        save_fig(task_name)\n",
    "    else:  \n",
    "        baselines_title, ablations_title = task_name, task_name\n",
    "        if override_title is not None:\n",
    "            baselines_title, ablations_title = override_title\n",
    "\n",
    "        extract_ref_plot(test_vals, train_vals, method_names, baseline_names, py, \n",
    "                         baselines_title, \n",
    "                         scale[0], x_size_factor=use_width, show_axis=debug_axis)\n",
    "        save_fig(task_name + '_baselines')\n",
    "        plt.clf()\n",
    "\n",
    "        extract_ref_plot(test_vals, train_vals, method_names, ablation_names, py, \n",
    "                         ablations_title, \n",
    "                         scale[1], x_size_factor=use_width, show_axis=debug_axis)\n",
    "        save_fig(task_name + '_ablations')\n",
    "        plt.clf()"
   ]
  },
  {
   "cell_type": "code",
   "execution_count": 11,
   "metadata": {},
   "outputs": [
    {
     "name": "stdout",
     "output_type": "stream",
     "text": [
      "saved to  recommender_baselines\n",
      "saved to  recommender_ablations\n",
      "saved to  create_push_baselines\n",
      "saved to  create_push_ablations\n",
      "saved to  create_push_oracle\n",
      "saved to  create_seesaw_baselines\n",
      "saved to  create_seesaw_ablations\n",
      "saved to  create_seesaw_oracle\n",
      "saved to  create_obstacle_baselines\n",
      "saved to  create_obstacle_ablations\n",
      "saved to  create_obstacle_oracle\n",
      "saved to  grid_world_baselines\n",
      "saved to  grid_world_ablations\n",
      "saved to  grid_world_oracle\n"
     ]
    },
    {
     "data": {
      "text/plain": [
       "([array([91.47023572, 90.71670992, 90.5       , 89.89010989, 90.42574455,\n",
       "         88.08      , 91.84489306, 89.81426004, 91.06536078]),\n",
       "  array([81.52369526, 85.88822355, 89.57251298, 90.52947053, 85.94562175,\n",
       "         89.21940507, 78.58      ]),\n",
       "  array([99.92007992, 99.74015591, 99.78013192, 99.24136554, 99.80003999,\n",
       "         99.62083416, 99.94027474, 99.48062325]),\n",
       "  array([69.53919808, 70.73511786, 70.14180148, 69.78230477, 68.60511591,\n",
       "         70.82917083]),\n",
       "  array([96.08313349, 96.12310152, 95.52268639, 95.54      , 94.3       ,\n",
       "         95.68776203, 95.52268639, 95.02      ]),\n",
       "  array([19.9880072 , 14.23146112, 27.56346192, 22.32428115,  0.03997601,\n",
       "         34.73915651, 25.53403873, 13.31467413]),\n",
       "  array([99.78026368, 99.82050259, 99.58075464, 99.30097863, 99.84      ,\n",
       "         99.82014388, 99.60087807, 99.36089475]),\n",
       "  array([94.36338197, 92.2246652 , 92.38      , 93.30535572, 93.30669331,\n",
       "         93.06693307, 92.12944467, 93.96603397]),\n",
       "  array([93.72877971, 93.34798242, 91.30695444, 90.4885344 , 93.52      ,\n",
       "         93.18545164, 93.58128374, 92.86998203])],\n",
       " [array([75.40427231, 64.81518482, 68.59025559, 70.64587083, 64.92104737,\n",
       "         72.17009383, 70.21786928, 75.5489022 ]),\n",
       "  array([66.28      , 63.27672328, 67.19936077, 72.79808268, 67.07950459,\n",
       "         64.3542583 , 67.59776536, 53.73551738]),\n",
       "  array([22.83543291, 17.05658868, 21.3       , 18.09828206, 20.69586083,\n",
       "         22.33106757, 24.04076739, 21.87562488]),\n",
       "  array([42.35152969, 43.03974436, 46.53623478, 44.06      , 42.5       ,\n",
       "         43.09105431, 42.7972028 , 43.39132174]),\n",
       "  array([84.38936638, 79.64035964, 80.31543222, 80.01998002, 79.62037962,\n",
       "         81.12153263, 75.76969212, 76.86      ]),\n",
       "  array([18.72255489, 13.14948042, 23.67843607, 20.0999001 ,  0.11992804,\n",
       "         31.14      , 21.49570086, 11.34      ]),\n",
       "  array([22.88507582, 12.77489004, 23.95209581, 21.03055722, 21.26597444,\n",
       "         22.18450479, 19.49220312, 18.3       ]),\n",
       "  array([74.82014388, 73.28      , 71.71696982, 72.61477046, 71.33453022,\n",
       "         73.38129496, 69.9660068 , 72.93623826]),\n",
       "  array([76.4035964 , 75.53425205, 76.35310565, 76.19332934, 71.14      ,\n",
       "         79.13252049, 74.28      , 74.84025559])],\n",
       " ['main', 'no_ent', 'fixed', 'vae', 'gt', 'dist', 'nn', 'main2', 'all'])"
      ]
     },
     "execution_count": 11,
     "metadata": {},
     "output_type": "execute_result"
    },
    {
     "data": {
      "text/plain": [
       "<Figure size 288x360 with 0 Axes>"
      ]
     },
     "metadata": {},
     "output_type": "display_data"
    }
   ],
   "source": [
    "# Main Results\n",
    "generate_reco(['reco_train'], ['reco_test'], 'Recommender', 'reco', 'CTR')\n",
    "generate_all(['push_train', 'push_im_train'], ['push_test', 'push_im_test'], 'CREATE Push', 'Push')\n",
    "generate_all(['seesaw_train'], ['seesaw_test'], 'CREATE Seesaw', 'Seesaw')\n",
    "generate_all(['obstacle_train'], ['obstacle_test', 'obstacle_im_test'], 'CREATE Obstacle', 'Obstacle')\n",
    "generate_all(['gw_train'], ['gw_test'], 'Grid World', 'gw')"
   ]
  },
  {
   "cell_type": "code",
   "execution_count": 12,
   "metadata": {},
   "outputs": [
    {
     "name": "stdout",
     "output_type": "stream",
     "text": [
      "saved to  create_add_navigate\n",
      "saved to  create_add_belt\n",
      "saved to  create_add_buckets\n",
      "saved to  create_add_cannon\n",
      "saved to  create_add_collide\n",
      "saved to  create_add_moving\n",
      "saved to  create_add_ladder\n",
      "saved to  create_add_basket\n",
      "saved to  create_add_funnel\n"
     ]
    },
    {
     "data": {
      "text/plain": [
       "<Figure size 432x360 with 0 Axes>"
      ]
     },
     "metadata": {},
     "output_type": "display_data"
    }
   ],
   "source": [
    "# Additional results\n",
    "all_load = ['rebutt_nn_all', 'rebutt_no_ent_all', 'rebutt_fix_all', 'rebutt_dist_all', 'lg_add']\n",
    "test_vals, method_names = load_datas([x + '_test' for x in all_load], \n",
    "                                     replace=False, ret_train=False, scale=100.0, early_ret=True)\n",
    "train_vals, method_names = load_datas([x + '_train' for x in all_load], \n",
    "                                      replace=False, ret_train=True, scale=100.0, early_ret=True)\n",
    "\n",
    "train_plot_groups = defaultdict(lambda: ([], []))\n",
    "test_plot_groups = defaultdict(lambda: ([], []))\n",
    "for test_val, train_val, name in zip(test_vals, train_vals, method_names):\n",
    "    task_name = name.split('_')[-1]\n",
    "    method_name = '_'.join(name.split('_')[:-1])\n",
    "    method_name = method_name.replace('-', '_')\n",
    "    if task_name == 'navivate':\n",
    "        task_name = 'navigate'\n",
    "    if method_name == '':\n",
    "        method_name = 'main'\n",
    "    train_plot_groups[task_name][0].append(train_val)\n",
    "    train_plot_groups[task_name][1].append(method_name)\n",
    "    \n",
    "    test_plot_groups[task_name][0].append(test_val)\n",
    "    test_plot_groups[task_name][1].append(method_name)\n",
    "    \n",
    "name_order = ['main', 'nn', 'no_ent', 'fix', 'dist']  \n",
    "for task in test_plot_groups:\n",
    "    test_vals = {k: v for v, k in zip(*test_plot_groups[task])}\n",
    "    train_vals = {k: v for v, k in zip(*train_plot_groups[task])}\n",
    "    \n",
    "    extract_ref_plot([test_vals[k] for k in name_order], \n",
    "                     [train_vals[k] for k in name_order], name_order, name_order, 'Success Rate (%)', \n",
    "             'CREATE %s' % task.capitalize(), 110.0, x_size_factor=1.0, show_axis=False)\n",
    "    save_fig('create_add_' + task)\n",
    "    plt.clf()"
   ]
  },
  {
   "cell_type": "code",
   "execution_count": 13,
   "metadata": {},
   "outputs": [
    {
     "name": "stdout",
     "output_type": "stream",
     "text": [
      "saved to  recommender_fully_observable\n"
     ]
    },
    {
     "data": {
      "image/png": "[encoded data removed]",
      "text/plain": [
       "<Figure size 864x360 with 1 Axes>"
      ]
     },
     "metadata": {
      "needs_background": "light"
     },
     "output_type": "display_data"
    }
   ],
   "source": [
    "generate_reco(['reco_new_train'], ['reco_new_test'], 'Recommender Fully Observable',  \n",
    "              'reco', 'CTR', scale=[0.7] * 2, plot_all=True, use_width=2.0)"
   ]
  },
  {
   "cell_type": "code",
   "execution_count": 14,
   "metadata": {},
   "outputs": [
    {
     "name": "stdout",
     "output_type": "stream",
     "text": [
      "saved to  stack_additional\n"
     ]
    },
    {
     "data": {
      "image/png": "[encoded data removed]",
      "text/plain": [
       "<Figure size 900x360 with 1 Axes>"
      ]
     },
     "metadata": {
      "needs_background": "light"
     },
     "output_type": "display_data"
    }
   ],
   "source": [
    "add_dat = {\n",
    "    'train': {\n",
    "    },\n",
    "    'test': {\n",
    "    }\n",
    "}\n",
    "\n",
    "all_runs = ['bs/' + x.split('.')[0] for x in os.listdir('../analysis/outcomes/bs')]\n",
    "train_methods = [x for x in all_runs if 'train' in x]\n",
    "test_methods = [x for x in all_runs if 'test' in x]\n",
    "\n",
    "train_vals, method_names = load_datas(train_methods, replace=False, ret_train=True, scale=1.0)\n",
    "test_vals, method_names = load_datas(test_methods, replace=False, ret_train=False, scale=1.0)\n",
    "\n",
    "keep_methods = ('main', 'full', 'dim0', 'dim2')\n",
    "# train_vals = [vals for name, vals in zip(method_names, train_vals) if name in keep_methods]\n",
    "# test_vals = [vals for name, vals in zip(method_names, test_vals) if name in keep_methods]\n",
    "# method_names = [x for x in method_names if x in keep_methods]\n",
    "# print(method_names)\n",
    "\n",
    "def combine(x, d):\n",
    "    for i, m in enumerate(method_names):\n",
    "        if m in d:\n",
    "            x[i] = list(x[i])\n",
    "            x[i].extend(d[m])\n",
    "            x[i] = np.array(x[i])\n",
    "    return x\n",
    "\n",
    "if add_dat is not None:\n",
    "    train_vals = combine(train_vals, add_dat['train'])\n",
    "    test_vals = combine(test_vals, add_dat['test'])\n",
    "\n",
    "\n",
    "extract_ref_plot(test_vals, train_vals, method_names, keep_methods, 'Height', \n",
    "                 'Shape Stacking', \n",
    "                 3.1, x_size_factor=2.5, show_axis=False)\n",
    "save_fig('stack_additional')"
   ]
  },
  {
   "cell_type": "code",
   "execution_count": 15,
   "metadata": {},
   "outputs": [
    {
     "name": "stdout",
     "output_type": "stream",
     "text": [
      "saved to  shape_stacking_baselines\n",
      "saved to  shape_stacking_ablations\n",
      "saved to  shape_stacking_oracle\n"
     ]
    },
    {
     "data": {
      "text/plain": [
       "([array([2.40938797, 2.42485696, 2.24633113, 2.55221588, 2.1356836 ]),\n",
       "  array([2.63890074, 2.26424368, 2.03519749, 2.10148747, 2.09841715]),\n",
       "  array([8.22415148, 7.58466297, 7.55095817, 4.71412178, 8.120431  ]),\n",
       "  array([2.47311592, 1.9768248 , 2.00623298, 2.3       , 2.4       ]),\n",
       "  array([1.46740706, 1.21385887, 1.28093178, 1.86      , 1.36      ]),\n",
       "  array([1.01164696, 1.69134062, 1.68958769, 1.6602976 , 1.31167911]),\n",
       "  array([7.82681727, 7.83891599, 8.92044784, 5.32      , 7.82      ]),\n",
       "  array([2.56679105, 2.37772639, 2.19600217, 2.11      , 2.38      ]),\n",
       "  array([2.57310186, 2.63057859, 2.63098692]),\n",
       "  array([1.64359137, 1.66471712, 1.59085595, 1.64454409, 1.54409794]),\n",
       "  array([1.86808715, 2.06978897, 2.02624796, 3.13321007, 2.93973998])],\n",
       " [array([2.14461811, 2.16601609, 1.26069053, 1.25759922, 1.7488687 ]),\n",
       "  array([1.3007309 , 1.41572602, 1.73666457, 1.78721017, 1.77810444]),\n",
       "  array([1.22155858, 0.96606667, 1.3086041 , 1.33553345, 1.37134973]),\n",
       "  array([1.31540601, 1.6611713 , 1.563815  , 1.56      , 1.53      ]),\n",
       "  array([1.4407593 , 1.25376433, 1.40924463, 1.26      , 1.28      ]),\n",
       "  array([0.9536753 , 1.11185538, 1.10548714, 1.21568755, 1.213645  ]),\n",
       "  array([1.53747048, 1.50835352, 1.31963491, 1.53      , 1.27      ]),\n",
       "  array([1.42632932, 1.66815634, 1.60731134, 1.98930293, 1.61      ]),\n",
       "  array([1.40264027, 1.41342922, 1.41930314]),\n",
       "  array([1.47385022, 1.46508706, 1.40636418]),\n",
       "  array([1.3941866 , 1.33772788, 1.39334138, 1.16231783, 1.150719  ])],\n",
       " ['main',\n",
       "  'no_ent',\n",
       "  'fx',\n",
       "  'vae',\n",
       "  'gt',\n",
       "  'dist',\n",
       "  'nn',\n",
       "  'all',\n",
       "  'dim0',\n",
       "  'dim2',\n",
       "  'full'])"
      ]
     },
     "execution_count": 15,
     "metadata": {},
     "output_type": "execute_result"
    },
    {
     "data": {
      "text/plain": [
       "<Figure size 288x360 with 0 Axes>"
      ]
     },
     "metadata": {},
     "output_type": "display_data"
    }
   ],
   "source": [
    "add_runs = {\n",
    "    'train': {\n",
    "        'no_ent': [2.1014874678680493, 2.098417146892638],\n",
    "        'vae': [2.3, 2.4],\n",
    "        'gt': [1.86, 1.36],\n",
    "        'nn': [5.32, 7.82],\n",
    "        'all': [2.11, 2.38],\n",
    "        'fx': [8.120431003657727]\n",
    "    },\n",
    "    'test': {\n",
    "        'no_ent': [1.7872101696785203, 1.7781044441759617],\n",
    "        'vae': [1.56, 1.53],\n",
    "        'gt': [1.26, 1.28],\n",
    "        'dist': [1.2156875501242896, 1.2136449996614982],\n",
    "        'nn': [1.53, 1.27],\n",
    "        'fx': [],\n",
    "        'all': [1.61]\n",
    "    }\n",
    "}\n",
    "\n",
    "all_runs = [x.split('.')[0] for x in os.listdir('../analysis/outcomes/bs')]\n",
    "train_methods = [x for x in all_runs if 'train' in x]\n",
    "test_methods = [ x for x in all_runs if 'test' in x]\n",
    "generate_all(train_methods, test_methods, 'Shape Stacking', 'bs', 'Height', \n",
    "             scale=[2.75] * 3, data_scale=1.0, replace=False, use_width=0.8, add_dat=add_runs)"
   ]
  },
  {
   "cell_type": "code",
   "execution_count": 17,
   "metadata": {},
   "outputs": [],
   "source": [
    "\"\"\"\n",
    "Test:\n",
    "full-26-BS-41-JW-m-full: 1.77\n",
    "full-26-BS-51-DF-m-full: 1.17\n",
    "full-26-BS-71-5N-m-full: 1.29\n",
    "full-26-BS-31-QC-m-full: 1.35\n",
    "full-26-BS-51-GN-m-full: 1.27\n",
    "\n",
    "Train:\n",
    "full-26-BS-51-GN-m-full: 2.08\n",
    "full-26-BS-31-QC-m-full: 2.45\n",
    "full-26-BS-41-JW-m-full: 2.25\n",
    "full-26-BS-51-DF-m-full: 2.09\n",
    "full-26-BS-71-5N-m-full: 2.34\n",
    "\"\"\"\n",
    "\n",
    "full_data = {\n",
    "    'train': [],\n",
    "    'test': []\n",
    "}"
   ]
  },
  {
   "cell_type": "code",
   "execution_count": 18,
   "metadata": {},
   "outputs": [
    {
     "name": "stdout",
     "output_type": "stream",
     "text": [
      "saved to  full\n"
     ]
    },
    {
     "data": {
      "text/plain": [
       "<Figure size 432x360 with 0 Axes>"
      ]
     },
     "metadata": {},
     "output_type": "display_data"
    }
   ],
   "source": [
    "names = ['push', 'obstacle', 'seesaw']\n",
    "train_methods = ['rebutt_%sfull_fixed_train' % x for x in names]\n",
    "test_methods = ['rebutt_%sfull_fixed_test' % x for x in names]\n",
    "\n",
    "all_train_vals = []\n",
    "all_test_vals = []\n",
    "\n",
    "for train_method in train_methods:\n",
    "    train_vals, _ = load_datas([train_method], replace=True, ret_train=True)\n",
    "    all_train_vals.append(train_vals)\n",
    "    \n",
    "for test_method in test_methods:\n",
    "    test_vals, _ = load_datas([test_method], replace=True, ret_train=False)\n",
    "    all_test_vals.append(test_vals)\n",
    "    \n",
    "\n",
    "plot_bar(\n",
    "    all_test_vals, \n",
    "    all_train_vals,\n",
    "    names, 'Success Rate (%)', 'CREATE Full', 110.0)\n",
    "save_fig('full')\n",
    "\n",
    "plt.clf()"
   ]
  },
  {
   "cell_type": "code",
   "execution_count": 20,
   "metadata": {},
   "outputs": [],
   "source": [
    "def plot_line(y_name, x_name, title, key_ord, y, err, name):\n",
    "    plt.rcParams[\"figure.figsize\"] = (5 ,5)\n",
    "    c = g_common_color_map[name]\n",
    "    plt.errorbar(key_ord, y, err, color=g_common_color_map[name], capsize=4, ecolor=(*c, 0.5))\n",
    "    plt.xlabel(x_name, fontsize=18)\n",
    "    plt.ylabel(y_name, fontsize=18)\n",
    "    plt.title(title, fontsize=22)"
   ]
  },
  {
   "cell_type": "code",
   "execution_count": 21,
   "metadata": {},
   "outputs": [
    {
     "name": "stdout",
     "output_type": "stream",
     "text": [
      "saved to  angle_analysis_seesaw\n"
     ]
    },
    {
     "data": {
      "image/png": "[encoded data removed]",
      "text/plain": [
       "<Figure size 360x360 with 1 Axes>"
      ]
     },
     "metadata": {
      "needs_background": "light"
     },
     "output_type": "display_data"
    }
   ],
   "source": [
    "\n",
    "gen_names = ['push', 'obstacle', 'seesaw']\n",
    "\n",
    "for gen_name in gen_names:\n",
    "    with open('../analysis/outcomes/%s/analysis_angle.o' % gen_name, 'rb') as f:\n",
    "        results = pickle.load(f)\n",
    "\n",
    "    key_ord = [3, 6, 9, 12, 15]\n",
    "    y = [np.mean(results[k]['analysis']) for k in key_ord]\n",
    "    err = [np.std(results[k]['analysis']) for k in key_ord]\n",
    "\n",
    "    plot_line('Success Rate (%)', 'Angle Difference (degrees)', 'Angle Generalization', key_ord, y, err, gen_name)\n",
    "\n",
    "\n",
    "\n",
    "save_fig('angle_analysis_%s' % gen_name)"
   ]
  },
  {
   "cell_type": "code",
   "execution_count": 22,
   "metadata": {},
   "outputs": [
    {
     "name": "stdout",
     "output_type": "stream",
     "text": [
      "saved to  emb_analysis\n"
     ]
    },
    {
     "data": {
      "image/png": "[encoded data removed]",
      "text/plain": [
       "<Figure size 360x360 with 1 Axes>"
      ]
     },
     "metadata": {
      "needs_background": "light"
     },
     "output_type": "display_data"
    }
   ],
   "source": [
    "\n",
    "\n",
    "\n",
    "gen_names = ['push', 'obstacle', 'seesaw']\n",
    "for gen_name in gen_names:\n",
    "    with open('../analysis/outcomes/%s/analysis_emb.o' % gen_name, 'rb') as f:\n",
    "        results = pickle.load(f)\n",
    "    key_ord = [0.3, 0.2, 0.1, 0.08, 0.02]\n",
    "    y = [np.mean(results[k]['analysis']) for k in key_ord]\n",
    "    err = [np.std(results[k]['analysis']) for k in key_ord]\n",
    "\n",
    "    plot_line('Success Rate (%)', 'Embedding Distance', 'Embedding Generalization', key_ord, y, err, gen_name)\n",
    "\n",
    "save_fig('emb_analysis')"
   ]
  },
  {
   "cell_type": "code",
   "execution_count": 23,
   "metadata": {},
   "outputs": [
    {
     "name": "stdout",
     "output_type": "stream",
     "text": [
      "saved to  unseen_analysis\n"
     ]
    },
    {
     "data": {
      "image/png": "[encoded data removed]",
      "text/plain": [
       "<Figure size 360x360 with 1 Axes>"
      ]
     },
     "metadata": {
      "needs_background": "light"
     },
     "output_type": "display_data"
    }
   ],
   "source": [
    "\n",
    "gen_names = ['push', 'obstacle', 'seesaw']\n",
    "for gen_name in gen_names:\n",
    "    with open('../analysis/outcomes/%s/analysis_ratio.o' % gen_name, 'rb') as f:\n",
    "        results = pickle.load(f)\n",
    "    key_ord = [0.0, 0.2, 0.4, 0.6, 0.8]\n",
    "    y = [np.mean(results[k]['analysis']) for k in key_ord]\n",
    "    err = [np.std(results[k]['analysis']) for k in key_ord]\n",
    "\n",
    "    plot_line('Success Rate (%)', 'Unseen Action (%)', 'Effect of Unseen Actions', \n",
    "              np.array(key_ord) * 100, y, err, gen_name)\n",
    "\n",
    "\n",
    "save_fig('unseen_analysis')"
   ]
  },
  {
   "cell_type": "code",
   "execution_count": 24,
   "metadata": {},
   "outputs": [
    {
     "data": {
      "image/png": "[encoded data removed]",
      "text/plain": [
       "<Figure size 360x360 with 1 Axes>"
      ]
     },
     "metadata": {
      "needs_background": "light"
     },
     "output_type": "display_data"
    }
   ],
   "source": [
    "\n",
    "def plot_ac_analysis_line(y_name, x_name, title, key_ord, y, err, name):\n",
    "    plt.rcParams[\"figure.figsize\"] = (5 ,5)\n",
    "    c = g_common_color_map[name]\n",
    "    plt.errorbar(key_ord, y, err, color=g_common_color_map[name], capsize=4, ecolor=(*c, 0.5))\n",
    "    plt.xlabel(x_name, fontsize=18)\n",
    "    plt.ylabel(y_name, fontsize=18)\n",
    "    plt.title(title, fontsize=22)\n",
    "    plt.legend(('Ours', 'Ours w/o Entropy', 'Ours w/o Subsampling'))\n",
    "    \n",
    "with open('../analysis/outcomes/ac_size_analysis.o', 'rb') as f:\n",
    "    results = pickle.load(f)\n",
    "\n",
    "methods = ('main', 'no_ent', 'fixed')\n",
    "key_ord = np.arange(10, 65, 5)\n",
    "\n",
    "for m in methods:  \n",
    "    y = [np.mean(results[k][m]) for k in key_ord]\n",
    "    err = [np.std(results[k][m]) for k in key_ord]\n",
    "\n",
    "    plot_ac_analysis_line('Success Rate (%)', 'Action Set Size', 'Effect of Action Set Size', \n",
    "              np.array(key_ord)[::-1], y, err, g_common_name_map[m])\n",
    "\n",
    "\n",
    "# save_fig('ac_size_analysis')"
   ]
  },
  {
   "cell_type": "code",
   "execution_count": 25,
   "metadata": {},
   "outputs": [
    {
     "name": "stdout",
     "output_type": "stream",
     "text": [
      "Ours Test: 31.6(15.1),4.9(7.9),19.5(5.1),36.3(11.8),75.7(6.9),67.6(16.0),66.9(7.2),72.6(12.1),88.0(2.6)\n",
      "Ours Train: 45.6(25.6),27.5(24.2),68.9(17.5),60.7(18.4),97.9(0.5),94.4(2.7),96.1(1.2),90.5(12.2),97.7(1.1)\n",
      "VAE Test: 19.1(9.5),6.3(7.7),16.1(4.6),25.6(14.3),65.8(3.1),41.0(5.9),36.1(7.6),67.9(6.1),90.5(1.7)\n",
      "VAE Train: 28.4(14.6),9.0(10.6),39.7(7.8),49.3(21.9),89.4(0.7),66.0(0.5),69.5(3.9),82.0(11.7),94.0(2.0)\n",
      "Cont Test: 4.0(2.6),0.2(0.2),18.7(8.1),27.6(20.2),29.5(8.4),60.3(4.4),18.8(14.0),64.0(3.3),21.6(19.9)\n",
      "Cont Train: 4.8(3.2),0.1(0.1),33.3(14.9),48.1(34.0),38.1(12.3),74.8(6.0),39.2(26.0),92.0(0.5),24.6(21.5)\n",
      "NN Test: 1.7(0.2),0.0(0.0),4.2(2.4),6.1(3.9),7.8(6.4),13.5(0.9),13.4(12.4),4.2(0.9),32.4(13.1)\n",
      "NN Train: 64.2(29.0),0.0(0.0),99.5(0.4),98.9(1.1),99.6(0.1),99.7(0.2),99.1(0.2),99.6(0.3),99.6(0.1)\n",
      "w/o Entropy Test: 48.3(9.5),0.0(0.0),22.6(4.5),48.9(20.8),74.9(8.0),48.2(7.6),78.0(4.9),81.8(3.1),88.3(2.0)\n",
      "w/o Entropy Train: 71.7(16.7),0.0(0.0),73.9(6.3),83.9(17.3),98.0(0.4),87.8(4.1),96.1(1.2),97.3(0.7),98.8(0.3)\n",
      "w/o Subsampling Test: 7.4(4.9),4.7(0.5),14.0(0.6),25.2(16.7),41.5(6.4),28.6(4.5),15.9(10.6),50.9(8.9),60.0(6.5)\n",
      "w/o Subsampling Train: 37.5(33.2),97.2(1.6),91.5(11.4),99.7(0.1),99.8(0.1),99.7(0.2),99.5(0.3),99.7(0.1),99.6(0.1)\n"
     ]
    }
   ],
   "source": [
    "###############\n",
    "# REBUTTAL\n",
    "###############\n",
    "import pandas as pd\n",
    "\n",
    "load_files = {\n",
    "    'Ours': 'lg_add',\n",
    "    'VAE': 'rebutt_vae',\n",
    "    'Cont': 'rebutt_dist',\n",
    "    'NN': 'rebutt_nn',\n",
    "    'w/o Entropy': 'rebutt_no_ent',\n",
    "    'w/o Subsampling': 'rebutt_fix',\n",
    "}\n",
    "\n",
    "print_std = True\n",
    "display_train = True\n",
    "\n",
    "ordering = ['navigate', 'belt', 'buckets', 'cannon', 'collide', 'moving', 'ladder', 'basket', 'funnel']\n",
    "\n",
    "rename_entries = {\n",
    "    'vae': 'navigate_vae',\n",
    "    'fix_navivate': 'fix_navigate',\n",
    "}\n",
    "\n",
    "def p_method(fn, title, ret_train):\n",
    "    dat, names = load_data(fn, ret_train=ret_train, scale=100.0)    \n",
    "\n",
    "    use_names = [rename_entries.get(n, n) for n in names]\n",
    "\n",
    "    inf_arr = {use_names[i]: [np.mean(dat[i]), np.std(dat[i])] for i in range(len(dat))}\n",
    "\n",
    "    p_str = []\n",
    "    for name in ordering:\n",
    "        use_key = None\n",
    "        for k in inf_arr:\n",
    "            if name in k:\n",
    "                use_key = k\n",
    "                break\n",
    "        if use_key is None:\n",
    "            print(f'Looking for {name}')\n",
    "            print(f\"From {list(inf_arr.keys())}\")\n",
    "        add_str = f\"{inf_arr[use_key][0]:.1f}\"\n",
    "        if print_std:\n",
    "            add_str += f\"({inf_arr[use_key][1]:.1f})\"\n",
    "        p_str.append(add_str)\n",
    "    print(title + ': ' + ','.join(p_str))\n",
    "\n",
    "for method, fn in load_files.items():\n",
    "    test_method_name = method\n",
    "    if display_train:\n",
    "        test_method_name += ' Test'\n",
    "    p_method(fn + '_test', test_method_name, False)\n",
    "    if display_train:\n",
    "        p_method(fn + '_train', method + ' Train', True)\n",
    "\n",
    "\n",
    "# dat_arr = {n: inf_arr[i] for i, n in enumerate(use_names)}\n",
    "# dat_arr.update({'Metric': ['mean', 'std']})\n",
    "# df = pd.DataFrame(dat_arr).set_index('Metric')\n",
    "# display(df)"
   ]
  },
  {
   "cell_type": "code",
   "execution_count": 26,
   "metadata": {},
   "outputs": [
    {
     "name": "stdout",
     "output_type": "stream",
     "text": [
      "saved to  tmp_baselines\n",
      "saved to  tmp_ablations\n",
      "saved to  tmp_oracle\n",
      "saved to  tmp_baselines\n",
      "saved to  tmp_ablations\n",
      "saved to  tmp_oracle\n",
      "saved to  tmp_baselines\n",
      "saved to  tmp_ablations\n",
      "saved to  tmp_oracle\n",
      "Push Test: 86.1(3.1),79.7(13.4)\n",
      "Push Train: 96.2(1.0),90.7(4.4)\n",
      "Seesaw Test: 68.0(8.4),41.4(12.0)\n",
      "Seesaw Train: 97.0(1.0),83.0(10.5)\n",
      "Obstacle Test: 34.8(21.4),42.8(22.3)\n",
      "Obstacle Train: 70.9(31.4),77.7(8.5)\n"
     ]
    },
    {
     "data": {
      "text/plain": [
       "<Figure size 360x360 with 0 Axes>"
      ]
     },
     "metadata": {},
     "output_type": "display_data"
    }
   ],
   "source": [
    "load_names = {\n",
    "    'push': (['push_train', 'push_im_train'], ['push_test', 'push_im_test']),\n",
    "    'seesaw': (['seesaw_train'], ['seesaw_test']),\n",
    "    'obstacle': (['obstacle_train'], ['obstacle_test', 'obstacle_im_test']),\n",
    "}\n",
    "\n",
    "\n",
    "train_dat, names = load_data('rebutt_condaux_train', ret_train=True, scale=100.0) \n",
    "test_dat, names = load_data('rebutt_condaux_test', ret_train=False, scale=100.0) \n",
    "train_dat = {k: train_dat[i] for i, k in enumerate(names)}\n",
    "test_dat = {k: test_dat[i] for i, k in enumerate(names)}\n",
    "main_dat = {}\n",
    "\n",
    "for name, (train_names, test_names) in load_names.items():\n",
    "    push_train, push_test, push_methods = generate_all(train_names, test_names, 'Tmp', name)\n",
    "    main_idx = push_methods.index('main')\n",
    "    train_vals = push_train[main_idx]\n",
    "    test_vals = push_test[main_idx]\n",
    "    main_dat[name] = (train_vals, test_vals)\n",
    "    \n",
    "disp_std = True\n",
    "disp_train = True\n",
    "\n",
    "def format_str(dat):\n",
    "    disp_str = f\"{np.mean(dat):.1f}\"\n",
    "    if disp_std:\n",
    "        disp_str += f\"({np.std(dat):.1f})\"\n",
    "    return disp_str\n",
    "\n",
    "for name in load_names.keys():\n",
    "    form_name = name.capitalize()\n",
    "    use_name = form_name + \" Test\" if disp_train else name\n",
    "    print(f\"{use_name}: \" + format_str(test_dat[name]) + ',' + format_str(main_dat[name][1]))\n",
    "    if disp_train:\n",
    "        print(f\"{form_name} Train: \" + format_str(train_dat[name]) + ',' + format_str(main_dat[name][0]))\n",
    "\n",
    "\n"
   ]
  },
  {
   "cell_type": "code",
   "execution_count": 27,
   "metadata": {},
   "outputs": [
    {
     "name": "stdout",
     "output_type": "stream",
     "text": [
      "Push Test: 67.8(22.6), 79.7(13.4)\n",
      "Push Train: 89.2(3.0), 90.7(4.4)\n",
      "Obstacle Test: 31.7(30.9), 42.8(22.3)\n",
      "Obstacle Train: 52.8(29.5), 77.7(8.5)\n"
     ]
    }
   ],
   "source": [
    "train_dat, names = load_data('rebutt_dense_train', ret_train=True, scale=100.0) \n",
    "test_dat, names = load_data('rebutt_dense_test', ret_train=False, scale=100.0)\n",
    "\n",
    "train_dat = {k: train_dat[i] for i, k in enumerate(names)}\n",
    "test_dat = {k: test_dat[i] for i, k in enumerate(names)}\n",
    "\n",
    "use_train = True\n",
    "\n",
    "def get_tname(n):\n",
    "    n = n.capitalize()\n",
    "    if use_train:\n",
    "        return n + ' Test'\n",
    "    return n\n",
    "for n in ['push', 'obstacle']:\n",
    "    print(f'{get_tname(n)}: {format_str(test_dat[n])}, {format_str(main_dat[n][1])}' )\n",
    "    if use_train:\n",
    "        print(f'{n.capitalize()} Train: {format_str(train_dat[n])}, {format_str(main_dat[n][0])}' )"
   ]
  },
  {
   "cell_type": "code",
   "execution_count": null,
   "metadata": {},
   "outputs": [],
   "source": []
  },
  {
   "cell_type": "code",
   "execution_count": null,
   "metadata": {},
   "outputs": [],
   "source": []
  }
 ],
 "metadata": {
  "kernelspec": {
   "display_name": "Python 3",
   "language": "python",
   "name": "python3"
  },
  "language_info": {
   "codemirror_mode": {
    "name": "ipython",
    "version": 3
   },
   "file_extension": ".py",
   "mimetype": "text/x-python",
   "name": "python",
   "nbconvert_exporter": "python",
   "pygments_lexer": "ipython3",
   "version": "3.8.5"
  }
 },
 "nbformat": 4,
 "nbformat_minor": 2
}
